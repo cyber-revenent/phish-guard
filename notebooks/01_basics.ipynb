{
 "cells": [
  {
   "cell_type": "code",
   "execution_count": 1,
   "id": "da0bf917-f96a-43fd-922c-771439c2dc0e",
   "metadata": {},
   "outputs": [
    {
     "name": "stdout",
     "output_type": "stream",
     "text": [
      "hello this is a sample text with numbers and symbols\n"
     ]
    }
   ],
   "source": [
    "# Basic text cleaning demo\n",
    "\n",
    "import re\n",
    "\n",
    "text = \"Hello!!! This is a Sample TEXT... with numbers 12345 and symbols ###.\"\n",
    "\n",
    "# Lowercase\n",
    "text = text.lower()\n",
    "\n",
    "# Remove numbers\n",
    "text = re.sub(r'\\d+', '', text)\n",
    "\n",
    "# Remove punctuation/special chars\n",
    "text = re.sub(r'[^\\w\\s]', '', text)\n",
    "\n",
    "# Remove extra spaces\n",
    "text = re.sub(r'\\s+', ' ', text).strip()\n",
    "\n",
    "print(text)\n"
   ]
  },
  {
   "cell_type": "code",
   "execution_count": null,
   "id": "80a20536-54f3-4680-a2bb-3facdcc5245c",
   "metadata": {},
   "outputs": [],
   "source": []
  }
 ],
 "metadata": {
  "kernelspec": {
   "display_name": "Python 3 (ipykernel)",
   "language": "python",
   "name": "python3"
  },
  "language_info": {
   "codemirror_mode": {
    "name": "ipython",
    "version": 3
   },
   "file_extension": ".py",
   "mimetype": "text/x-python",
   "name": "python",
   "nbconvert_exporter": "python",
   "pygments_lexer": "ipython3",
   "version": "3.13.7"
  }
 },
 "nbformat": 4,
 "nbformat_minor": 5
}
